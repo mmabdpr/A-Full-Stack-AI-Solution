{
 "cells": [
  {
   "cell_type": "markdown",
   "metadata": {
    "_uuid": "8bb827f06f5cfefe8e260728821da68ba58b7e4b"
   },
   "source": [
    "1. # MBTI Personality Classifier\n",
    "\n",
    "This programme will classify people into mbti personality types based on their past 50 posts on social media using the basic naivebayesclassifier"
   ]
  },
  {
   "cell_type": "code",
   "execution_count": 3,
   "metadata": {
    "_uuid": "a7de7bb1a15a021967dce619552960dd5fec96d1"
   },
   "outputs": [],
   "source": [
    "import pandas as pd\n",
    "import numpy as np\n",
    "import matplotlib.pyplot as plt\n",
    "import nltk\n",
    "import string\n",
    "from nltk.classify import NaiveBayesClassifier"
   ]
  },
  {
   "cell_type": "markdown",
   "metadata": {
    "_uuid": "0dbb5e7154ae6c0952e785327a5e6910597f1e84"
   },
   "source": [
    "### Importing the dataset "
   ]
  },
  {
   "cell_type": "code",
   "execution_count": 4,
   "metadata": {
    "_kg_hide-input": true,
    "_uuid": "9dfe2a597939ab1ae2ec490a1de13db637451134"
   },
   "outputs": [
    {
     "data": {
      "text/html": [
       "<div>\n",
       "<style scoped>\n",
       "    .dataframe tbody tr th:only-of-type {\n",
       "        vertical-align: middle;\n",
       "    }\n",
       "\n",
       "    .dataframe tbody tr th {\n",
       "        vertical-align: top;\n",
       "    }\n",
       "\n",
       "    .dataframe thead th {\n",
       "        text-align: right;\n",
       "    }\n",
       "</style>\n",
       "<table border=\"1\" class=\"dataframe\">\n",
       "  <thead>\n",
       "    <tr style=\"text-align: right;\">\n",
       "      <th></th>\n",
       "      <th>type</th>\n",
       "      <th>posts</th>\n",
       "    </tr>\n",
       "  </thead>\n",
       "  <tbody>\n",
       "    <tr>\n",
       "      <th>8670</th>\n",
       "      <td>ISFP</td>\n",
       "      <td>'https://www.youtube.com/watch?v=t8edHB_h908||...</td>\n",
       "    </tr>\n",
       "    <tr>\n",
       "      <th>8671</th>\n",
       "      <td>ENFP</td>\n",
       "      <td>'So...if this thread already exists someplace ...</td>\n",
       "    </tr>\n",
       "    <tr>\n",
       "      <th>8672</th>\n",
       "      <td>INTP</td>\n",
       "      <td>'So many questions when i do these things.  I ...</td>\n",
       "    </tr>\n",
       "    <tr>\n",
       "      <th>8673</th>\n",
       "      <td>INFP</td>\n",
       "      <td>'I am very conflicted right now when it comes ...</td>\n",
       "    </tr>\n",
       "    <tr>\n",
       "      <th>8674</th>\n",
       "      <td>INFP</td>\n",
       "      <td>'It has been too long since I have been on per...</td>\n",
       "    </tr>\n",
       "  </tbody>\n",
       "</table>\n",
       "</div>"
      ],
      "text/plain": [
       "      type                                              posts\n",
       "8670  ISFP  'https://www.youtube.com/watch?v=t8edHB_h908||...\n",
       "8671  ENFP  'So...if this thread already exists someplace ...\n",
       "8672  INTP  'So many questions when i do these things.  I ...\n",
       "8673  INFP  'I am very conflicted right now when it comes ...\n",
       "8674  INFP  'It has been too long since I have been on per..."
      ]
     },
     "execution_count": 4,
     "metadata": {},
     "output_type": "execute_result"
    }
   ],
   "source": [
    "data_set = pd.read_csv(\"./mbti_1.csv\")\n",
    "data_set.tail()"
   ]
  },
  {
   "cell_type": "markdown",
   "metadata": {
    "_uuid": "98e57b1de8e236358006019dba07402077f3fd01"
   },
   "source": [
    "### Checking the dataset for missing values"
   ]
  },
  {
   "cell_type": "code",
   "execution_count": 5,
   "metadata": {
    "_uuid": "184c5514a2e0fc586e53165489de53e3e90fece4"
   },
   "outputs": [
    {
     "data": {
      "text/plain": [
       "type     False\n",
       "posts    False\n",
       "dtype: bool"
      ]
     },
     "execution_count": 5,
     "metadata": {},
     "output_type": "execute_result"
    }
   ],
   "source": [
    "data_set.isnull().any()"
   ]
  },
  {
   "cell_type": "markdown",
   "metadata": {
    "_uuid": "30a4b1e733e3065150b30f3d4278f54c7995bd85"
   },
   "source": [
    "## Exploring the dataset"
   ]
  },
  {
   "cell_type": "markdown",
   "metadata": {
    "_uuid": "b50a97e6ff2b572c9ae044bc13b4611479d00756"
   },
   "source": [
    "The size of the dataset"
   ]
  },
  {
   "cell_type": "code",
   "execution_count": 6,
   "metadata": {
    "_uuid": "97f0e8c89d2c1e2fdfc960b23b659600cf83aa66"
   },
   "outputs": [
    {
     "data": {
      "text/plain": [
       "(8675, 2)"
      ]
     },
     "execution_count": 6,
     "metadata": {},
     "output_type": "execute_result"
    }
   ],
   "source": [
    "data_set.shape"
   ]
  },
  {
   "cell_type": "markdown",
   "metadata": {
    "_uuid": "b382a2579939671ba8c3c093eec4025622ef5077"
   },
   "source": [
    "Explroing the posts in posts field"
   ]
  },
  {
   "cell_type": "code",
   "execution_count": 7,
   "metadata": {
    "_uuid": "3472b5b9eedb53ea9cfbeec1aeffed97840af476",
    "scrolled": true
   },
   "outputs": [
    {
     "data": {
      "text/plain": [
       "[\"'http://www.youtube.com/watch?v=qsXHcwe3krw\",\n",
       " 'http://41.media.tumblr.com/tumblr_lfouy03PMA1qa1rooo1_500.jpg',\n",
       " 'enfp and intj moments  https://www.youtube.com/watch?v=iz7lE1g4XM4  sportscenter not top ten plays  https://www.youtube.com/watch?v=uCdfze1etec  pranks',\n",
       " 'What has been the most life-changing experience in your life?',\n",
       " 'http://www.youtube.com/watch?v=vXZeYwwRDw8   http://www.youtube.com/watch?v=u8ejam5DP3E  On repeat for most of today.',\n",
       " 'May the PerC Experience immerse you.',\n",
       " 'The last thing my INFJ friend posted on his facebook before committing suicide the next day. Rest in peace~   http://vimeo.com/22842206',\n",
       " \"Hello ENFJ7. Sorry to hear of your distress. It's only natural for a relationship to not be perfection all the time in every moment of existence. Try to figure the hard times as times of growth, as...\",\n",
       " '84389  84390  http://wallpaperpassion.com/upload/23700/friendship-boy-and-girl-wallpaper.jpg  http://assets.dornob.com/wp-content/uploads/2010/04/round-home-design.jpg ...',\n",
       " 'Welcome and stuff.',\n",
       " 'http://playeressence.com/wp-content/uploads/2013/08/RED-red-the-pokemon-master-32560474-450-338.jpg  Game. Set. Match.',\n",
       " \"Prozac, wellbrutin, at least thirty minutes of moving your legs (and I don't mean moving them while sitting in your same desk chair), weed in moderation (maybe try edibles as a healthier alternative...\",\n",
       " \"Basically come up with three items you've determined that each type (or whichever types you want to do) would more than likely use, given each types' cognitive functions and whatnot, when left by...\",\n",
       " 'All things in moderation.  Sims is indeed a video game, and a good one at that. Note: a good one at that is somewhat subjective in that I am not completely promoting the death of any given Sim...',\n",
       " 'Dear ENFP:  What were your favorite video games growing up and what are your now, current favorite video games? :cool:',\n",
       " 'https://www.youtube.com/watch?v=QyPqT8umzmY',\n",
       " 'It appears to be too late. :sad:',\n",
       " \"There's someone out there for everyone.\",\n",
       " 'Wait... I thought confidence was a good thing.',\n",
       " \"I just cherish the time of solitude b/c i revel within my inner world more whereas most other time i'd be workin... just enjoy the me time while you can. Don't worry, people will always be around to...\",\n",
       " \"Yo entp ladies... if you're into a complimentary personality,well, hey.\",\n",
       " '... when your main social outlet is xbox live conversations and even then you verbally fatigue quickly.',\n",
       " 'http://www.youtube.com/watch?v=gDhy7rdfm14  I really dig the part from 1:46 to 2:50',\n",
       " 'http://www.youtube.com/watch?v=msqXffgh7b8',\n",
       " 'Banned because this thread requires it of me.',\n",
       " 'Get high in backyard, roast and eat marshmellows in backyard while conversing over something intellectual, followed by massages and kisses.',\n",
       " 'http://www.youtube.com/watch?v=Mw7eoU3BMbE',\n",
       " 'http://www.youtube.com/watch?v=4V2uYORhQOk',\n",
       " 'http://www.youtube.com/watch?v=SlVmgFQQ0TI',\n",
       " \"Banned for too many b's in that sentence. How could you! Think of the B!\",\n",
       " 'Banned for watching movies in the corner with the dunces.',\n",
       " 'Banned because Health class clearly taught you nothing about peer pressure.',\n",
       " 'Banned for a whole host of reasons!',\n",
       " 'http://www.youtube.com/watch?v=IRcrv41hgz4',\n",
       " \"1) Two baby deer on left and right munching on a beetle in the middle.  2) Using their own blood, two cavemen diary today's latest happenings on their designated cave diary wall.  3) I see it as...\",\n",
       " 'a pokemon world  an infj society  everyone becomes an optimist',\n",
       " '49142',\n",
       " 'http://www.youtube.com/watch?v=ZRCEq_JFeFM',\n",
       " 'http://discovermagazine.com/2012/jul-aug/20-things-you-didnt-know-about-deserts/desert.jpg',\n",
       " 'http://oyster.ignimgs.com/mediawiki/apis.ign.com/pokemon-silver-version/d/dd/Ditto.gif',\n",
       " 'http://www.serebii.net/potw-dp/Scizor.jpg',\n",
       " \"Not all artists are artists because they draw. It's the idea that counts in forming something of your own... like a signature.\",\n",
       " \"Welcome to the robot ranks, person who downed my self-esteem cuz I'm not an avid signature artist like herself. :proud:\",\n",
       " 'Banned for taking all the room under my bed. Ya gotta learn to share with the roaches.',\n",
       " 'http://www.youtube.com/watch?v=w8IgImn57aQ',\n",
       " 'Banned for being too much of a thundering, grumbling kind of storm... yep.',\n",
       " \"Ahh... old high school music I haven't heard in ages.   http://www.youtube.com/watch?v=dcCRUPCdB1w\",\n",
       " \"I failed a public speaking class a few years ago and I've sort of learned what I could do better were I to be in that position again. A big part of my failure was just overloading myself with too...\",\n",
       " \"I like this person's mentality. He's a confirmed INTJ by the way. http://www.youtube.com/watch?v=hGKLI-GEc6M\",\n",
       " \"Move to the Denver area and start a new life for myself.'\"]"
      ]
     },
     "execution_count": 7,
     "metadata": {},
     "output_type": "execute_result"
    }
   ],
   "source": [
    "data_set.iloc[0,1].split('|||')"
   ]
  },
  {
   "cell_type": "markdown",
   "metadata": {
    "_uuid": "0b86097a7c4ba22dad0b1ebda788488cd3ace0c5"
   },
   "source": [
    "Finding the number of posts"
   ]
  },
  {
   "cell_type": "code",
   "execution_count": 8,
   "metadata": {
    "_uuid": "732043d533235d8e6ab217f9e0ecd0b3099b2287"
   },
   "outputs": [
    {
     "data": {
      "text/plain": [
       "50"
      ]
     },
     "execution_count": 8,
     "metadata": {},
     "output_type": "execute_result"
    }
   ],
   "source": [
    "len(data_set.iloc[1,1].split('|||'))"
   ]
  },
  {
   "cell_type": "markdown",
   "metadata": {
    "_uuid": "1d8d191335a7914d097b389c2db604b74e36b328"
   },
   "source": [
    "Finding the unique vales from type of personality column"
   ]
  },
  {
   "cell_type": "code",
   "execution_count": 9,
   "metadata": {
    "_uuid": "ac77990f8eb625fa66d16fd94e923425c51413aa"
   },
   "outputs": [
    {
     "data": {
      "text/plain": [
       "array(['ENFJ', 'ENFP', 'ENTJ', 'ENTP', 'ESFJ', 'ESFP', 'ESTJ', 'ESTP',\n",
       "       'INFJ', 'INFP', 'INTJ', 'INTP', 'ISFJ', 'ISFP', 'ISTJ', 'ISTP'],\n",
       "      dtype=object)"
      ]
     },
     "execution_count": 9,
     "metadata": {},
     "output_type": "execute_result"
    }
   ],
   "source": [
    "types = np.unique(np.array(data_set['type']))\n",
    "types"
   ]
  },
  {
   "cell_type": "markdown",
   "metadata": {
    "_uuid": "d5abe363d01a26e22772a87683f58b7294bb48e0"
   },
   "source": [
    "The total number of posts for each type"
   ]
  },
  {
   "cell_type": "code",
   "execution_count": 10,
   "metadata": {
    "_uuid": "2dd18c970f03d46c1975404a6ae8c5138b129323",
    "scrolled": true
   },
   "outputs": [
    {
     "data": {
      "text/html": [
       "<div>\n",
       "<style scoped>\n",
       "    .dataframe tbody tr th:only-of-type {\n",
       "        vertical-align: middle;\n",
       "    }\n",
       "\n",
       "    .dataframe tbody tr th {\n",
       "        vertical-align: top;\n",
       "    }\n",
       "\n",
       "    .dataframe thead th {\n",
       "        text-align: right;\n",
       "    }\n",
       "</style>\n",
       "<table border=\"1\" class=\"dataframe\">\n",
       "  <thead>\n",
       "    <tr style=\"text-align: right;\">\n",
       "      <th></th>\n",
       "      <th>posts</th>\n",
       "    </tr>\n",
       "    <tr>\n",
       "      <th>type</th>\n",
       "      <th></th>\n",
       "    </tr>\n",
       "  </thead>\n",
       "  <tbody>\n",
       "    <tr>\n",
       "      <th>ENFJ</th>\n",
       "      <td>9500</td>\n",
       "    </tr>\n",
       "    <tr>\n",
       "      <th>ENFP</th>\n",
       "      <td>33750</td>\n",
       "    </tr>\n",
       "    <tr>\n",
       "      <th>ENTJ</th>\n",
       "      <td>11550</td>\n",
       "    </tr>\n",
       "    <tr>\n",
       "      <th>ENTP</th>\n",
       "      <td>34250</td>\n",
       "    </tr>\n",
       "    <tr>\n",
       "      <th>ESFJ</th>\n",
       "      <td>2100</td>\n",
       "    </tr>\n",
       "    <tr>\n",
       "      <th>ESFP</th>\n",
       "      <td>2400</td>\n",
       "    </tr>\n",
       "    <tr>\n",
       "      <th>ESTJ</th>\n",
       "      <td>1950</td>\n",
       "    </tr>\n",
       "    <tr>\n",
       "      <th>ESTP</th>\n",
       "      <td>4450</td>\n",
       "    </tr>\n",
       "    <tr>\n",
       "      <th>INFJ</th>\n",
       "      <td>73500</td>\n",
       "    </tr>\n",
       "    <tr>\n",
       "      <th>INFP</th>\n",
       "      <td>91600</td>\n",
       "    </tr>\n",
       "    <tr>\n",
       "      <th>INTJ</th>\n",
       "      <td>54550</td>\n",
       "    </tr>\n",
       "    <tr>\n",
       "      <th>INTP</th>\n",
       "      <td>65200</td>\n",
       "    </tr>\n",
       "    <tr>\n",
       "      <th>ISFJ</th>\n",
       "      <td>8300</td>\n",
       "    </tr>\n",
       "    <tr>\n",
       "      <th>ISFP</th>\n",
       "      <td>13550</td>\n",
       "    </tr>\n",
       "    <tr>\n",
       "      <th>ISTJ</th>\n",
       "      <td>10250</td>\n",
       "    </tr>\n",
       "    <tr>\n",
       "      <th>ISTP</th>\n",
       "      <td>16850</td>\n",
       "    </tr>\n",
       "  </tbody>\n",
       "</table>\n",
       "</div>"
      ],
      "text/plain": [
       "      posts\n",
       "type       \n",
       "ENFJ   9500\n",
       "ENFP  33750\n",
       "ENTJ  11550\n",
       "ENTP  34250\n",
       "ESFJ   2100\n",
       "ESFP   2400\n",
       "ESTJ   1950\n",
       "ESTP   4450\n",
       "INFJ  73500\n",
       "INFP  91600\n",
       "INTJ  54550\n",
       "INTP  65200\n",
       "ISFJ   8300\n",
       "ISFP  13550\n",
       "ISTJ  10250\n",
       "ISTP  16850"
      ]
     },
     "execution_count": 10,
     "metadata": {},
     "output_type": "execute_result"
    }
   ],
   "source": [
    "total = data_set.groupby(['type']).count()*50\n",
    "total"
   ]
  },
  {
   "cell_type": "markdown",
   "metadata": {
    "_uuid": "2f743361a01e838dfe1d5cd4965f495c2ff2e683"
   },
   "source": [
    "Graphing it for better visualization"
   ]
  },
  {
   "cell_type": "code",
   "execution_count": 11,
   "metadata": {
    "_uuid": "b12b91bc628b74dfe872f7ba667e0b6e2a03db95"
   },
   "outputs": [
    {
     "data": {
      "text/plain": [
       "Text(0.5, 1.0, 'Total posts for each personality type')"
      ]
     },
     "execution_count": 11,
     "metadata": {},
     "output_type": "execute_result"
    },
    {
     "data": {
      "image/png": "[encoded data removed]",
      "text/plain": [
       "<Figure size 864x432 with 1 Axes>"
      ]
     },
     "metadata": {
      "needs_background": "light"
     },
     "output_type": "display_data"
    }
   ],
   "source": [
    "plt.figure(figsize = (12,6))\n",
    "\n",
    "plt.bar(np.array(total.index), height = total['posts'],)\n",
    "plt.xlabel('Personality types', size = 14)\n",
    "plt.ylabel('Number of posts available', size = 14)\n",
    "plt.title('Total posts for each personality type')"
   ]
  },
  {
   "cell_type": "markdown",
   "metadata": {
    "_uuid": "ed579baba39191f90621eb7e8ca7f055833482d8"
   },
   "source": [
    "## Organising the data to create a bag words model"
   ]
  },
  {
   "cell_type": "markdown",
   "metadata": {
    "_uuid": "0532bbb0af6f4e09c3495150bdd7240b5fa3d1ae"
   },
   "source": [
    "Segrating all the posts by their personality types and ***creating a new dataframe to store all this in***"
   ]
  },
  {
   "cell_type": "code",
   "execution_count": 12,
   "metadata": {
    "_uuid": "9b3be2945617b413417302b2c8f42e670051ec37"
   },
   "outputs": [],
   "source": [
    "all_posts= pd.DataFrame()\n",
    "for j in types:\n",
    "    temp1 = data_set[data_set['type']==j]['posts']\n",
    "    temp2 = []\n",
    "    for i in temp1:\n",
    "        temp2+=i.split('|||')\n",
    "    temp3 = pd.Series(temp2)\n",
    "    all_posts[j] = temp3"
   ]
  },
  {
   "cell_type": "code",
   "execution_count": 13,
   "metadata": {
    "_uuid": "fdedc8d8b0d3c491780ed7ba7f3e5805a2704e51",
    "scrolled": true
   },
   "outputs": [
    {
     "data": {
      "text/html": [
       "<div>\n",
       "<style scoped>\n",
       "    .dataframe tbody tr th:only-of-type {\n",
       "        vertical-align: middle;\n",
       "    }\n",
       "\n",
       "    .dataframe tbody tr th {\n",
       "        vertical-align: top;\n",
       "    }\n",
       "\n",
       "    .dataframe thead th {\n",
       "        text-align: right;\n",
       "    }\n",
       "</style>\n",
       "<table border=\"1\" class=\"dataframe\">\n",
       "  <thead>\n",
       "    <tr style=\"text-align: right;\">\n",
       "      <th></th>\n",
       "      <th>ENFJ</th>\n",
       "      <th>ENFP</th>\n",
       "      <th>ENTJ</th>\n",
       "      <th>ENTP</th>\n",
       "      <th>ESFJ</th>\n",
       "      <th>ESFP</th>\n",
       "      <th>ESTJ</th>\n",
       "      <th>ESTP</th>\n",
       "      <th>INFJ</th>\n",
       "      <th>INFP</th>\n",
       "      <th>INTJ</th>\n",
       "      <th>INTP</th>\n",
       "      <th>ISFJ</th>\n",
       "      <th>ISFP</th>\n",
       "      <th>ISTJ</th>\n",
       "      <th>ISTP</th>\n",
       "    </tr>\n",
       "  </thead>\n",
       "  <tbody>\n",
       "    <tr>\n",
       "      <th>9283</th>\n",
       "      <td>I am VERY particular. And I have not dated cer...</td>\n",
       "      <td>'Very true.  The thing is to recognize and ove...</td>\n",
       "      <td>Um, totally off ROFL. I am female, 30, no opin...</td>\n",
       "      <td>Actually I was none of these labels of alpha o...</td>\n",
       "      <td>NaN</td>\n",
       "      <td>NaN</td>\n",
       "      <td>NaN</td>\n",
       "      <td>NaN</td>\n",
       "      <td>'So, hey everyone, me again. :happy:  I want t...</td>\n",
       "      <td>Fantastic, I've avoided having to make my own ...</td>\n",
       "      <td>Arwen - Lord of the Rings  Her faithfulness, r...</td>\n",
       "      <td>i love romance. i love the idea of inside joke...</td>\n",
       "      <td>NaN</td>\n",
       "      <td>If it still serves a meaningful purpose, I don...</td>\n",
       "      <td>Everything points to ISTJ for me, but then som...</td>\n",
       "      <td>Group One I tend to be sociable, but sometimes...</td>\n",
       "    </tr>\n",
       "    <tr>\n",
       "      <th>9284</th>\n",
       "      <td>Could you not tell the guy was INTP?  Is that ...</td>\n",
       "      <td>i'm not real sure it's a great idea to date un...</td>\n",
       "      <td>Hahah that's hilarious</td>\n",
       "      <td>Double post, dammit. &gt;_&lt;</td>\n",
       "      <td>NaN</td>\n",
       "      <td>NaN</td>\n",
       "      <td>NaN</td>\n",
       "      <td>NaN</td>\n",
       "      <td>Put these all together, and you have a fair id...</td>\n",
       "      <td>I suppose in some respect, I used to be that w...</td>\n",
       "      <td>I'm taking this path myself right now, and I'm...</td>\n",
       "      <td>so not fair for those of us who are insecure a...</td>\n",
       "      <td>NaN</td>\n",
       "      <td>LOL I'm glad I could remind you of that. But y...</td>\n",
       "      <td>I think ESFJ is possible</td>\n",
       "      <td>https://www.youtube.com/watch?v=22wU-UITRIA</td>\n",
       "    </tr>\n",
       "    <tr>\n",
       "      <th>9285</th>\n",
       "      <td>I cannot speak for all ENFJ's, but I am hard-w...</td>\n",
       "      <td>Watch some comedies, kids are joyful and make ...</td>\n",
       "      <td>https://www.onlineassessmenttool.com/instinctu...</td>\n",
       "      <td>Radicalism 83 Socialism 100 Tenderness 71.875 ...</td>\n",
       "      <td>NaN</td>\n",
       "      <td>NaN</td>\n",
       "      <td>NaN</td>\n",
       "      <td>NaN</td>\n",
       "      <td>I need to let go of my tendency to take too la...</td>\n",
       "      <td>I only know one in real life, but personally, ...</td>\n",
       "      <td>If only! My life would be so much more ruthles...</td>\n",
       "      <td>i hadn't heard of this, but i feel it's true i...</td>\n",
       "      <td>NaN</td>\n",
       "      <td>LOL. Thanks for making my day...INTPs are so f...</td>\n",
       "      <td>I disagree that Brandon is an INTJ. He cares a...</td>\n",
       "      <td>I'm trying to think... my first two detentions...</td>\n",
       "    </tr>\n",
       "    <tr>\n",
       "      <th>9286</th>\n",
       "      <td>Of course you do not see the point of the vide...</td>\n",
       "      <td>Meditation is great! Read up on TFT and EFT ta...</td>\n",
       "      <td>ENTJ - idunno...</td>\n",
       "      <td>Quoted for astonishing truth.  One thing thoug...</td>\n",
       "      <td>NaN</td>\n",
       "      <td>NaN</td>\n",
       "      <td>NaN</td>\n",
       "      <td>NaN</td>\n",
       "      <td>Hello, and welcome to the forum!!! :D There's ...</td>\n",
       "      <td>Am I evil? is a question I've asked myself tim...</td>\n",
       "      <td>I don't know, maybe because I'm a Jungian mutt...</td>\n",
       "      <td>that's funny to me because i saved my chat log...</td>\n",
       "      <td>NaN</td>\n",
       "      <td>That's fair I guess, but you're still trying t...</td>\n",
       "      <td>I thought so, but I don't think she rambles as...</td>\n",
       "      <td>I think you can.  You should never let your pe...</td>\n",
       "    </tr>\n",
       "    <tr>\n",
       "      <th>9287</th>\n",
       "      <td>The types fit because the way they use their c...</td>\n",
       "      <td>2 Physical Touch   7 Quality Time   7 Words of...</td>\n",
       "      <td>I miscarried recently and was quite distraught...</td>\n",
       "      <td>Sure. I was taken aback by what I saw (and pre...</td>\n",
       "      <td>NaN</td>\n",
       "      <td>NaN</td>\n",
       "      <td>NaN</td>\n",
       "      <td>NaN</td>\n",
       "      <td>Oh that's just cruel. :D I'm going to go and G...</td>\n",
       "      <td>I've yet to meet an ENFJ in real life but you ...</td>\n",
       "      <td>I do not watch TV, period. I haven't since 200...</td>\n",
       "      <td>wow. i just fell in love with myself  lol</td>\n",
       "      <td>NaN</td>\n",
       "      <td>A lot of your responses seemed to indicate a p...</td>\n",
       "      <td>Cmart animalfromthesea you are both probably r...</td>\n",
       "      <td>I think it's just a part of human nature to ca...</td>\n",
       "    </tr>\n",
       "  </tbody>\n",
       "</table>\n",
       "</div>"
      ],
      "text/plain": [
       "                                                   ENFJ  \\\n",
       "9283  I am VERY particular. And I have not dated cer...   \n",
       "9284  Could you not tell the guy was INTP?  Is that ...   \n",
       "9285  I cannot speak for all ENFJ's, but I am hard-w...   \n",
       "9286  Of course you do not see the point of the vide...   \n",
       "9287  The types fit because the way they use their c...   \n",
       "\n",
       "                                                   ENFP  \\\n",
       "9283  'Very true.  The thing is to recognize and ove...   \n",
       "9284  i'm not real sure it's a great idea to date un...   \n",
       "9285  Watch some comedies, kids are joyful and make ...   \n",
       "9286  Meditation is great! Read up on TFT and EFT ta...   \n",
       "9287  2 Physical Touch   7 Quality Time   7 Words of...   \n",
       "\n",
       "                                                   ENTJ  \\\n",
       "9283  Um, totally off ROFL. I am female, 30, no opin...   \n",
       "9284                             Hahah that's hilarious   \n",
       "9285  https://www.onlineassessmenttool.com/instinctu...   \n",
       "9286                                   ENTJ - idunno...   \n",
       "9287  I miscarried recently and was quite distraught...   \n",
       "\n",
       "                                                   ENTP ESFJ ESFP ESTJ ESTP  \\\n",
       "9283  Actually I was none of these labels of alpha o...  NaN  NaN  NaN  NaN   \n",
       "9284                           Double post, dammit. >_<  NaN  NaN  NaN  NaN   \n",
       "9285  Radicalism 83 Socialism 100 Tenderness 71.875 ...  NaN  NaN  NaN  NaN   \n",
       "9286  Quoted for astonishing truth.  One thing thoug...  NaN  NaN  NaN  NaN   \n",
       "9287  Sure. I was taken aback by what I saw (and pre...  NaN  NaN  NaN  NaN   \n",
       "\n",
       "                                                   INFJ  \\\n",
       "9283  'So, hey everyone, me again. :happy:  I want t...   \n",
       "9284  Put these all together, and you have a fair id...   \n",
       "9285  I need to let go of my tendency to take too la...   \n",
       "9286  Hello, and welcome to the forum!!! :D There's ...   \n",
       "9287  Oh that's just cruel. :D I'm going to go and G...   \n",
       "\n",
       "                                                   INFP  \\\n",
       "9283  Fantastic, I've avoided having to make my own ...   \n",
       "9284  I suppose in some respect, I used to be that w...   \n",
       "9285  I only know one in real life, but personally, ...   \n",
       "9286  Am I evil? is a question I've asked myself tim...   \n",
       "9287  I've yet to meet an ENFJ in real life but you ...   \n",
       "\n",
       "                                                   INTJ  \\\n",
       "9283  Arwen - Lord of the Rings  Her faithfulness, r...   \n",
       "9284  I'm taking this path myself right now, and I'm...   \n",
       "9285  If only! My life would be so much more ruthles...   \n",
       "9286  I don't know, maybe because I'm a Jungian mutt...   \n",
       "9287  I do not watch TV, period. I haven't since 200...   \n",
       "\n",
       "                                                   INTP ISFJ  \\\n",
       "9283  i love romance. i love the idea of inside joke...  NaN   \n",
       "9284  so not fair for those of us who are insecure a...  NaN   \n",
       "9285  i hadn't heard of this, but i feel it's true i...  NaN   \n",
       "9286  that's funny to me because i saved my chat log...  NaN   \n",
       "9287          wow. i just fell in love with myself  lol  NaN   \n",
       "\n",
       "                                                   ISFP  \\\n",
       "9283  If it still serves a meaningful purpose, I don...   \n",
       "9284  LOL I'm glad I could remind you of that. But y...   \n",
       "9285  LOL. Thanks for making my day...INTPs are so f...   \n",
       "9286  That's fair I guess, but you're still trying t...   \n",
       "9287  A lot of your responses seemed to indicate a p...   \n",
       "\n",
       "                                                   ISTJ  \\\n",
       "9283  Everything points to ISTJ for me, but then som...   \n",
       "9284                           I think ESFJ is possible   \n",
       "9285  I disagree that Brandon is an INTJ. He cares a...   \n",
       "9286  I thought so, but I don't think she rambles as...   \n",
       "9287  Cmart animalfromthesea you are both probably r...   \n",
       "\n",
       "                                                   ISTP  \n",
       "9283  Group One I tend to be sociable, but sometimes...  \n",
       "9284        https://www.youtube.com/watch?v=22wU-UITRIA  \n",
       "9285  I'm trying to think... my first two detentions...  \n",
       "9286  I think you can.  You should never let your pe...  \n",
       "9287  I think it's just a part of human nature to ca...  "
      ]
     },
     "execution_count": 13,
     "metadata": {},
     "output_type": "execute_result"
    }
   ],
   "source": [
    "all_posts.tail()"
   ]
  },
  {
   "cell_type": "markdown",
   "metadata": {
    "_uuid": "d12174fcd162a6450e4ac2e303682e319aa005c6"
   },
   "source": [
    "### Creating a function to tokenize the words"
   ]
  },
  {
   "cell_type": "code",
   "execution_count": 17,
   "metadata": {
    "_uuid": "d1cf27e7c60cab187f862398d9d03331a9c001c7"
   },
   "outputs": [],
   "source": [
    "useless_words = nltk.corpus.stopwords.words(\"english\") + list(string.punctuation)\n",
    "def build_bag_of_words_features_filtered(words):\n",
    "    words = nltk.word_tokenize(words)\n",
    "    return {\n",
    "        word:1 for word in words \\\n",
    "        if not word in useless_words}"
   ]
  },
  {
   "cell_type": "markdown",
   "metadata": {
    "_uuid": "a6dfed355ceae2d2a91077b7c223f870be51c90f"
   },
   "source": [
    "A random check of the function"
   ]
  },
  {
   "cell_type": "code",
   "execution_count": 20,
   "metadata": {
    "_uuid": "63bd0cb8a9bd83ed83c31e29247873a5f64e8fd7",
    "scrolled": true
   },
   "outputs": [
    {
     "data": {
      "text/plain": [
       "{'Dear': 1,\n",
       " 'ENTJ': 1,\n",
       " 'sub': 1,\n",
       " 'Long': 1,\n",
       " 'time': 1,\n",
       " 'see': 1,\n",
       " 'Sincerely': 1,\n",
       " 'Alpha': 1}"
      ]
     },
     "execution_count": 20,
     "metadata": {},
     "output_type": "execute_result"
    }
   ],
   "source": [
    "build_bag_of_words_features_filtered(all_posts['INTJ'].iloc[1])"
   ]
  },
  {
   "cell_type": "markdown",
   "metadata": {
    "_uuid": "976fdc10b8b4c6743bb0c325f14a037c879b1b59"
   },
   "source": [
    "## Creating an array of features"
   ]
  },
  {
   "cell_type": "code",
   "execution_count": 21,
   "metadata": {
    "_uuid": "c12ce5aa5d0934fe0a33fbf48cbedfd954ed0977"
   },
   "outputs": [],
   "source": [
    "features=[]\n",
    "for j in types:\n",
    "    temp1 = all_posts[j]\n",
    "    temp1 = temp1.dropna() #not all the personality types have same number of files\n",
    "    features += [[(build_bag_of_words_features_filtered(i), j) \\\n",
    "    for i in temp1]]"
   ]
  },
  {
   "cell_type": "markdown",
   "metadata": {
    "_uuid": "cd5dea9d90a7bfa72423c194d5f4966748716a63"
   },
   "source": [
    "Because each number of personality types have different number of posts they must be splitted accordingle. Taking 80% for training and 20% for testing"
   ]
  },
  {
   "cell_type": "code",
   "execution_count": 22,
   "metadata": {
    "_uuid": "52b45b2e1f64e7bf4ed37828954c80a4e9fb5730"
   },
   "outputs": [],
   "source": [
    "split=[]\n",
    "for i in range(16):\n",
    "    split += [len(features[i]) * 0.8]\n",
    "split = np.array(split,dtype = int)"
   ]
  },
  {
   "cell_type": "code",
   "execution_count": 23,
   "metadata": {
    "_uuid": "7c1a7e6acbab02b4e18f52afc967781ad5de6bfc",
    "scrolled": true
   },
   "outputs": [
    {
     "data": {
      "text/plain": [
       "array([7430, 7430, 7430, 7430, 1614, 1772, 1536, 3469, 7430, 7430, 7430,\n",
       "       7430, 6496, 7430, 7430, 7430])"
      ]
     },
     "execution_count": 23,
     "metadata": {},
     "output_type": "execute_result"
    }
   ],
   "source": [
    "split"
   ]
  },
  {
   "cell_type": "markdown",
   "metadata": {
    "_uuid": "263b847c15800f0f11d044e9689a21d0a30b3a7e"
   },
   "source": [
    "Data for training"
   ]
  },
  {
   "cell_type": "code",
   "execution_count": 24,
   "metadata": {
    "_uuid": "6cbd5c54b86a463d64322aeb02fb903b2b4e82c6"
   },
   "outputs": [],
   "source": [
    "train=[]\n",
    "for i in range(16):\n",
    "    train += features[i][:split[i]] "
   ]
  },
  {
   "cell_type": "markdown",
   "metadata": {
    "_uuid": "fe3c2423936c997356d6b843f5e65e85d7642462"
   },
   "source": [
    "Training the model"
   ]
  },
  {
   "cell_type": "code",
   "execution_count": 25,
   "metadata": {
    "_uuid": "b930c84f50e41c49f7b44bdd6e6f57b9032a9835"
   },
   "outputs": [],
   "source": [
    "sentiment_classifier = NaiveBayesClassifier.train(train)"
   ]
  },
  {
   "cell_type": "markdown",
   "metadata": {
    "_uuid": "829ddde6fe01aec69dd57edefd5da22827801528"
   },
   "source": [
    "Testing the model on the dataset it was trained for accuracy"
   ]
  },
  {
   "cell_type": "code",
   "execution_count": 26,
   "metadata": {
    "_uuid": "acb88e947d877d266ff0997040f0e4c10bd6dfc5",
    "scrolled": true
   },
   "outputs": [
    {
     "data": {
      "text/plain": [
       "43.898071767908334"
      ]
     },
     "execution_count": 26,
     "metadata": {},
     "output_type": "execute_result"
    }
   ],
   "source": [
    "nltk.classify.util.accuracy(sentiment_classifier, train)*100"
   ]
  },
  {
   "cell_type": "markdown",
   "metadata": {
    "_uuid": "62fa8394b0433a2889cb76281fceed98c0d34754"
   },
   "source": [
    "Creating the test data"
   ]
  },
  {
   "cell_type": "code",
   "execution_count": 27,
   "metadata": {
    "_uuid": "7bf4a6177d1974a4cac9e208115eb602de57e9b7"
   },
   "outputs": [],
   "source": [
    "test=[]\n",
    "for i in range(16):\n",
    "    test += features[i][split[i]:]"
   ]
  },
  {
   "cell_type": "markdown",
   "metadata": {
    "_uuid": "9f3da6cc68b79cd366af11f3787e2435b7f0cacc"
   },
   "source": [
    "Testing the model on the test dataset which it has never seen before"
   ]
  },
  {
   "cell_type": "code",
   "execution_count": 28,
   "metadata": {
    "_uuid": "0e19237c022c547751c86213efce424693ac8297"
   },
   "outputs": [
    {
     "data": {
      "text/plain": [
       "10.242933410586435"
      ]
     },
     "execution_count": 28,
     "metadata": {},
     "output_type": "execute_result"
    }
   ],
   "source": [
    "nltk.classify.util.accuracy(sentiment_classifier, test)*100"
   ]
  },
  {
   "cell_type": "markdown",
   "metadata": {
    "_uuid": "44b3545652bf914f31d8918b6e5a4164c9b25dc7"
   },
   "source": [
    "# The model performs at efficieny of only 10% which is pretty bad.\n",
    "\n",
    "## Hence, instead of selecting all 16 types of personalitys as a unique feature I explored the dataset further and decided to simplify it.\n",
    "\n",
    "The Myers Briggs Type Indicator (or MBTI for short) is a personality type system that divides everyone into 16 distinct personality types across 4 axis:\n",
    "\n",
    "- Introversion (I) – Extroversion (E)\n",
    "- Intuition (N) – Sensing (S)\n",
    "- Thinking (T) – Feeling (F)\n",
    "- Judging (J) – Perceiving (P)\n",
    "<br><br>\n",
    "We will use this and create 4 classifyers to classify the person "
   ]
  },
  {
   "cell_type": "markdown",
   "metadata": {
    "_uuid": "08d890ede1621d48072217d1b15b2cde55a5b4a0"
   },
   "source": [
    "## Creating a classifyer for Introversion (I) and Extroversion (E)\n",
    "\n",
    "**Note:** The details for the steps over here are same as the ones while creating the model above, hence I will only explain the changes"
   ]
  },
  {
   "cell_type": "code",
   "execution_count": 29,
   "metadata": {
    "_uuid": "758c5ea838ea17737bee0aac2702fad80c222795"
   },
   "outputs": [],
   "source": [
    "# Features for the bag of words model\n",
    "features=[]\n",
    "for j in types:\n",
    "    temp1 = all_posts[j]\n",
    "    temp1 = temp1.dropna() #not all the personality types have same number of files\n",
    "    if('I' in j):\n",
    "        features += [[(build_bag_of_words_features_filtered(i), 'introvert') \\\n",
    "        for i in temp1]]\n",
    "    if('E' in j):\n",
    "        features += [[(build_bag_of_words_features_filtered(i), 'extrovert') \\\n",
    "        for i in temp1]]"
   ]
  },
  {
   "cell_type": "markdown",
   "metadata": {
    "_uuid": "4d5ead1eb0646a9e3b67fec85a67258700db1683"
   },
   "source": [
    "Data for training"
   ]
  },
  {
   "cell_type": "code",
   "execution_count": 30,
   "metadata": {
    "_uuid": "dc661a28b0941ae1604b3a4243ccae040a657bc7"
   },
   "outputs": [],
   "source": [
    "train=[]\n",
    "for i in range(16):\n",
    "    train += features[i][:split[i]] "
   ]
  },
  {
   "cell_type": "markdown",
   "metadata": {
    "_uuid": "39b99fb6094d25ba0fdac71069503f93787834ea"
   },
   "source": [
    "Training the model"
   ]
  },
  {
   "cell_type": "code",
   "execution_count": 31,
   "metadata": {
    "_uuid": "0f3cfefa97c2d4d413fefa67bedb4d93e20e28a7"
   },
   "outputs": [],
   "source": [
    "IntroExtro = NaiveBayesClassifier.train(train)"
   ]
  },
  {
   "cell_type": "markdown",
   "metadata": {
    "_uuid": "e1311522dc0a90625244e07d9dc2bc437905fb72"
   },
   "source": [
    "Testing the model on the dataset it was trained for accuracy"
   ]
  },
  {
   "cell_type": "code",
   "execution_count": 32,
   "metadata": {
    "_uuid": "5fa8d51db85ea6f5170a2a98cfb49b0c86a882d6",
    "scrolled": true
   },
   "outputs": [
    {
     "data": {
      "text/plain": [
       "81.12443979837917"
      ]
     },
     "execution_count": 32,
     "metadata": {},
     "output_type": "execute_result"
    }
   ],
   "source": [
    "nltk.classify.util.accuracy(IntroExtro, train)*100"
   ]
  },
  {
   "cell_type": "markdown",
   "metadata": {
    "_uuid": "d86e4151cff019a1ce26d810205251ab44722bfb"
   },
   "source": [
    "Creating the test data"
   ]
  },
  {
   "cell_type": "code",
   "execution_count": 33,
   "metadata": {
    "_uuid": "daccffb9ae1578e336417da72ff440da95e02b58"
   },
   "outputs": [],
   "source": [
    "test=[]\n",
    "for i in range(16):\n",
    "    test += features[i][split[i]:]"
   ]
  },
  {
   "cell_type": "markdown",
   "metadata": {
    "_uuid": "b65c6c98166ff1ad192679c2f33920b413814cc6"
   },
   "source": [
    "Testing the model on the test dataset which it has never seen before"
   ]
  },
  {
   "cell_type": "code",
   "execution_count": 34,
   "metadata": {
    "_uuid": "225dd7878c1839fde0afd98eb542965174e43284"
   },
   "outputs": [
    {
     "data": {
      "text/plain": [
       "58.20055456689981"
      ]
     },
     "execution_count": 34,
     "metadata": {},
     "output_type": "execute_result"
    }
   ],
   "source": [
    "nltk.classify.util.accuracy(IntroExtro, test)*100"
   ]
  },
  {
   "cell_type": "markdown",
   "metadata": {
    "_uuid": "ed4c624dd0dc41b69f97620c8b63df00d2e8f4cc"
   },
   "source": [
    "Seeing that this model has good somewhat good results, I shall repeat the same with the rest of the traits"
   ]
  },
  {
   "cell_type": "markdown",
   "metadata": {
    "_uuid": "6765c0a50cfa00abe02d82e54beb083513f576b9"
   },
   "source": [
    "## Creating a classifyer for Intuition (N) and Sensing (S)"
   ]
  },
  {
   "cell_type": "code",
   "execution_count": 35,
   "metadata": {
    "_uuid": "85b4bafa3ab5ab28d62bdf6f7900e13cb99d373b"
   },
   "outputs": [],
   "source": [
    "# Features for the bag of words model\n",
    "features=[]\n",
    "for j in types:\n",
    "    temp1 = all_posts[j]\n",
    "    temp1 = temp1.dropna() #not all the personality types have same number of files\n",
    "    if('N' in j):\n",
    "        features += [[(build_bag_of_words_features_filtered(i), 'Intuition') \\\n",
    "        for i in temp1]]\n",
    "    if('E' in j):\n",
    "        features += [[(build_bag_of_words_features_filtered(i), 'Sensing') \\\n",
    "        for i in temp1]]"
   ]
  },
  {
   "cell_type": "markdown",
   "metadata": {
    "_uuid": "7eef111f32cadb152e05ebfad3c1ddd153771e78"
   },
   "source": [
    "Data for training"
   ]
  },
  {
   "cell_type": "code",
   "execution_count": 36,
   "metadata": {
    "_uuid": "16e77e2f017c6e325efb01d0c2f1b08e0275df7b"
   },
   "outputs": [],
   "source": [
    "train=[]\n",
    "for i in range(16):\n",
    "    train += features[i][:split[i]] "
   ]
  },
  {
   "cell_type": "markdown",
   "metadata": {
    "_uuid": "592909a2a3e0f48e4fd3d79986284e8afa69e21c"
   },
   "source": [
    "Training the model"
   ]
  },
  {
   "cell_type": "code",
   "execution_count": 37,
   "metadata": {
    "_uuid": "9b4e1144c7503f5e2479e5653c7c94e64c72ae5a"
   },
   "outputs": [],
   "source": [
    "IntuitionSensing = NaiveBayesClassifier.train(train)"
   ]
  },
  {
   "cell_type": "markdown",
   "metadata": {
    "_uuid": "44adef77bfbc3cb4a47083f68375f2bb504eafb7"
   },
   "source": [
    "Testing the model on the dataset it was trained for accuracy"
   ]
  },
  {
   "cell_type": "code",
   "execution_count": 38,
   "metadata": {
    "_uuid": "ef7ba72cf11a1db5dd681e27a0f6bbaecf71407c",
    "scrolled": true
   },
   "outputs": [
    {
     "data": {
      "text/plain": [
       "70.13748901638496"
      ]
     },
     "execution_count": 38,
     "metadata": {},
     "output_type": "execute_result"
    }
   ],
   "source": [
    "nltk.classify.util.accuracy(IntuitionSensing, train)*100"
   ]
  },
  {
   "cell_type": "markdown",
   "metadata": {
    "_uuid": "bd1151feaed8186de445f49a0312d65662bc2ee0"
   },
   "source": [
    "Creating the test data"
   ]
  },
  {
   "cell_type": "code",
   "execution_count": 39,
   "metadata": {
    "_uuid": "7978094d62e93fab92fa1baa317e7f88b584f6cb"
   },
   "outputs": [],
   "source": [
    "test=[]\n",
    "for i in range(16):\n",
    "    test += features[i][split[i]:]"
   ]
  },
  {
   "cell_type": "markdown",
   "metadata": {
    "_uuid": "64eacd6d7ea9411c03daf46048e65f7f39e57439"
   },
   "source": [
    "Testing the model on the test dataset which it has never seen before"
   ]
  },
  {
   "cell_type": "code",
   "execution_count": 40,
   "metadata": {
    "_uuid": "5530407b17783aa9750263045c4e82fc9ede4193"
   },
   "outputs": [
    {
     "data": {
      "text/plain": [
       "54.46037837473911"
      ]
     },
     "execution_count": 40,
     "metadata": {},
     "output_type": "execute_result"
    }
   ],
   "source": [
    "nltk.classify.util.accuracy(IntuitionSensing, test)*100"
   ]
  },
  {
   "cell_type": "markdown",
   "metadata": {
    "_uuid": "939377c2a60e87473452f8ccf2ac3f65cb92184a"
   },
   "source": [
    "## Creating a classifyer for Thinking (T) and Feeling (F)"
   ]
  },
  {
   "cell_type": "code",
   "execution_count": 41,
   "metadata": {
    "_uuid": "16c94864f18f7813ef48303b0813a82df5faf21b"
   },
   "outputs": [],
   "source": [
    "# Features for the bag of words model\n",
    "features=[]\n",
    "for j in types:\n",
    "    temp1 = all_posts[j]\n",
    "    temp1 = temp1.dropna() #not all the personality types have same number of files\n",
    "    if('T' in j):\n",
    "        features += [[(build_bag_of_words_features_filtered(i), 'Thinking') \\\n",
    "        for i in temp1]]\n",
    "    if('F' in j):\n",
    "        features += [[(build_bag_of_words_features_filtered(i), 'Feeling') \\\n",
    "        for i in temp1]]"
   ]
  },
  {
   "cell_type": "markdown",
   "metadata": {
    "_uuid": "64ad5abdba282c032bb3d05c750e43a3b0aef2ad"
   },
   "source": [
    "Data for training"
   ]
  },
  {
   "cell_type": "code",
   "execution_count": 42,
   "metadata": {
    "_uuid": "8695bea4e9df4c7f2c68d0326438bab6f2adca61"
   },
   "outputs": [],
   "source": [
    "train=[]\n",
    "for i in range(16):\n",
    "    train += features[i][:split[i]] "
   ]
  },
  {
   "cell_type": "markdown",
   "metadata": {
    "_uuid": "55eea684d80fa25b5e64593d39b1c3ecf03bf881"
   },
   "source": [
    "Training the model"
   ]
  },
  {
   "cell_type": "code",
   "execution_count": 43,
   "metadata": {
    "_uuid": "e4957976f0e457d3c02cebb8d0410162aa17819e"
   },
   "outputs": [],
   "source": [
    "ThinkingFeeling = NaiveBayesClassifier.train(train)"
   ]
  },
  {
   "cell_type": "markdown",
   "metadata": {
    "_uuid": "22a822dd4c965fe0d07a14727712f5b7d13b6905"
   },
   "source": [
    "Testing the model on the dataset it was trained for accuracy"
   ]
  },
  {
   "cell_type": "code",
   "execution_count": 44,
   "metadata": {
    "_uuid": "dcb9f355cfc7cf654c7c7dc852c7cdf96a3d5511",
    "scrolled": true
   },
   "outputs": [
    {
     "data": {
      "text/plain": [
       "80.02939441299151"
      ]
     },
     "execution_count": 44,
     "metadata": {},
     "output_type": "execute_result"
    }
   ],
   "source": [
    "nltk.classify.util.accuracy(ThinkingFeeling, train)*100"
   ]
  },
  {
   "cell_type": "markdown",
   "metadata": {
    "_uuid": "2b0c8929460dd615caab7954edd65ffa0b0d1e3f"
   },
   "source": [
    "Creating the test data"
   ]
  },
  {
   "cell_type": "code",
   "execution_count": 45,
   "metadata": {
    "_uuid": "e0afea3a82d77e0d4aa32ce16f3b037cd7b90219"
   },
   "outputs": [],
   "source": [
    "test=[]\n",
    "for i in range(16):\n",
    "    test += features[i][split[i]:]"
   ]
  },
  {
   "cell_type": "markdown",
   "metadata": {
    "_uuid": "cf9c51cbab8326ad77fb77a58877d9626ab14002"
   },
   "source": [
    "Testing the model on the test dataset which it has never seen before"
   ]
  },
  {
   "cell_type": "code",
   "execution_count": 46,
   "metadata": {
    "_uuid": "5ddcd665f3b0e7fdaabc817309b2ea92ba0daa84"
   },
   "outputs": [
    {
     "data": {
      "text/plain": [
       "59.39245954558623"
      ]
     },
     "execution_count": 46,
     "metadata": {},
     "output_type": "execute_result"
    }
   ],
   "source": [
    "nltk.classify.util.accuracy(ThinkingFeeling, test)*100"
   ]
  },
  {
   "cell_type": "markdown",
   "metadata": {
    "_uuid": "2638f37c273a9462711df93b20bb8ecd72cc3896"
   },
   "source": [
    "## Creating a classifyer for Judging (J) and Percieving (P)"
   ]
  },
  {
   "cell_type": "code",
   "execution_count": 47,
   "metadata": {
    "_uuid": "79646248ac9aeb950fc957e6b876b44cb31cf130"
   },
   "outputs": [],
   "source": [
    "# Features for the bag of words model\n",
    "features=[]\n",
    "for j in types:\n",
    "    temp1 = all_posts[j]\n",
    "    temp1 = temp1.dropna() #not all the personality types have same number of files\n",
    "    if('J' in j):\n",
    "        features += [[(build_bag_of_words_features_filtered(i), 'Judging') \\\n",
    "        for i in temp1]]\n",
    "    if('P' in j):\n",
    "        features += [[(build_bag_of_words_features_filtered(i), 'Percieving') \\\n",
    "        for i in temp1]]"
   ]
  },
  {
   "cell_type": "markdown",
   "metadata": {
    "_uuid": "0232daa44ab2d286b694a2b73af0433e6d2969e5"
   },
   "source": [
    "Data for training"
   ]
  },
  {
   "cell_type": "code",
   "execution_count": 48,
   "metadata": {
    "_uuid": "62c38900f7179032146564bb787877245ac3d3c4"
   },
   "outputs": [],
   "source": [
    "train=[]\n",
    "for i in range(16):\n",
    "    train += features[i][:split[i]] "
   ]
  },
  {
   "cell_type": "markdown",
   "metadata": {
    "_uuid": "f638df8e5839cc47b1e371f491081f43435fa528"
   },
   "source": [
    "Training the model"
   ]
  },
  {
   "cell_type": "code",
   "execution_count": 49,
   "metadata": {
    "_uuid": "91c1317cb7caaf3aea3916ac3bf22b6c2f33cf2d"
   },
   "outputs": [],
   "source": [
    "JudgingPercieiving = NaiveBayesClassifier.train(train)"
   ]
  },
  {
   "cell_type": "markdown",
   "metadata": {
    "_uuid": "d1b7e2bc332bf8085a2cff042083dbde73adf7bc"
   },
   "source": [
    "Testing the model on the dataset it was trained for accuracy"
   ]
  },
  {
   "cell_type": "code",
   "execution_count": 50,
   "metadata": {
    "_uuid": "9c3cb5d0eb3640d8fbc1285cba35af26bc18112b",
    "scrolled": true
   },
   "outputs": [
    {
     "data": {
      "text/plain": [
       "79.77685086475465"
      ]
     },
     "execution_count": 50,
     "metadata": {},
     "output_type": "execute_result"
    }
   ],
   "source": [
    "nltk.classify.util.accuracy(JudgingPercieiving, train)*100"
   ]
  },
  {
   "cell_type": "markdown",
   "metadata": {
    "_uuid": "df666a14baa285f16922798183b23021415b27ba"
   },
   "source": [
    "Creating the test data"
   ]
  },
  {
   "cell_type": "code",
   "execution_count": 51,
   "metadata": {
    "_uuid": "7ed4ffc949f727d43f8a0635ee27331e82333927"
   },
   "outputs": [],
   "source": [
    "test=[]\n",
    "for i in range(16):\n",
    "    test += features[i][split[i]:]"
   ]
  },
  {
   "cell_type": "markdown",
   "metadata": {
    "_uuid": "c61796a09ba127bcba391eb177d9e98bfc298e4c"
   },
   "source": [
    "Testing the model on the test dataset which it has never seen before"
   ]
  },
  {
   "cell_type": "code",
   "execution_count": 52,
   "metadata": {
    "_uuid": "39de4ac50b744d0d0c7ce7efc3d37717ed95eec6"
   },
   "outputs": [
    {
     "data": {
      "text/plain": [
       "54.43860447792079"
      ]
     },
     "execution_count": 52,
     "metadata": {},
     "output_type": "execute_result"
    }
   ],
   "source": [
    "nltk.classify.util.accuracy(JudgingPercieiving, test)*100"
   ]
  },
  {
   "cell_type": "markdown",
   "metadata": {
    "_uuid": "86d39c896a2dcf81f209e832575b271c30c170a1"
   },
   "source": [
    "# Summarizing the results of the models\n",
    "***\n"
   ]
  },
  {
   "cell_type": "code",
   "execution_count": 53,
   "metadata": {
    "_uuid": "0261680d17b7d53253653f055a0da3a32082f258"
   },
   "outputs": [
    {
     "data": {
      "text/html": [
       "<div>\n",
       "<style scoped>\n",
       "    .dataframe tbody tr th:only-of-type {\n",
       "        vertical-align: middle;\n",
       "    }\n",
       "\n",
       "    .dataframe tbody tr th {\n",
       "        vertical-align: top;\n",
       "    }\n",
       "\n",
       "    .dataframe thead th {\n",
       "        text-align: right;\n",
       "    }\n",
       "</style>\n",
       "<table border=\"1\" class=\"dataframe\">\n",
       "  <thead>\n",
       "    <tr style=\"text-align: right;\">\n",
       "      <th></th>\n",
       "      <th>Introvert - Extrovert</th>\n",
       "      <th>Intuition - Sensing</th>\n",
       "      <th>Thinking - Feeling</th>\n",
       "      <th>Judging - Percieiving</th>\n",
       "    </tr>\n",
       "  </thead>\n",
       "  <tbody>\n",
       "    <tr>\n",
       "      <th>train</th>\n",
       "      <td>81.124440</td>\n",
       "      <td>70.145242</td>\n",
       "      <td>80.034569</td>\n",
       "      <td>79.793411</td>\n",
       "    </tr>\n",
       "    <tr>\n",
       "      <th>test</th>\n",
       "      <td>58.204693</td>\n",
       "      <td>54.462623</td>\n",
       "      <td>59.413152</td>\n",
       "      <td>54.405496</td>\n",
       "    </tr>\n",
       "  </tbody>\n",
       "</table>\n",
       "</div>"
      ],
      "text/plain": [
       "       Introvert - Extrovert  Intuition - Sensing  Thinking - Feeling  \\\n",
       "train              81.124440            70.145242           80.034569   \n",
       "test               58.204693            54.462623           59.413152   \n",
       "\n",
       "       Judging - Percieiving  \n",
       "train              79.793411  \n",
       "test               54.405496  "
      ]
     },
     "execution_count": 53,
     "metadata": {},
     "output_type": "execute_result"
    }
   ],
   "source": [
    "temp = {'train' : [81.12443979837917,70.14524215640667,80.03456948570128,79.79341109742592], 'test' : [58.20469312585358,54.46262259027357,59.41315234035509,54.40549600629061]}\n",
    "results = pd.DataFrame.from_dict(temp, orient='index', columns=['Introvert - Extrovert', 'Intuition - Sensing', 'Thinking - Feeling', 'Judging - Percieiving'])\n",
    "results"
   ]
  },
  {
   "cell_type": "markdown",
   "metadata": {
    "_uuid": "902d13554137516a8770804503717d6a37451487"
   },
   "source": [
    "Plotting the results for better appeal"
   ]
  },
  {
   "cell_type": "code",
   "execution_count": 54,
   "metadata": {
    "_uuid": "4c0c3d6bc3a5a9ca687d95a912a002d2f5459760"
   },
   "outputs": [
    {
     "data": {
      "text/plain": [
       "Text(0.5, 1.0, 'Total posts for each personality type')"
      ]
     },
     "execution_count": 54,
     "metadata": {},
     "output_type": "execute_result"
    },
    {
     "data": {
      "image/png": "[encoded data removed]",
      "text/plain": [
       "<Figure size 864x432 with 1 Axes>"
      ]
     },
     "metadata": {
      "needs_background": "light"
     },
     "output_type": "display_data"
    }
   ],
   "source": [
    "plt.figure(figsize = (12,6))\n",
    "\n",
    "plt.bar(np.array(results.columns), height = results.loc['train'],)\n",
    "plt.xlabel('Personality types', size = 14)\n",
    "plt.ylabel('Number of posts available', size = 14)\n",
    "plt.title('Total posts for each personality type')"
   ]
  },
  {
   "cell_type": "code",
   "execution_count": 55,
   "metadata": {
    "_uuid": "318a256a8f4e05fe6a6763b373ec2cdb47f0de29"
   },
   "outputs": [
    {
     "data": {
      "image/png": "[encoded data removed]",
      "text/plain": [
       "<Figure size 864x432 with 1 Axes>"
      ]
     },
     "metadata": {
      "needs_background": "light"
     },
     "output_type": "display_data"
    }
   ],
   "source": [
    "labels = np.array(results.columns)\n",
    "\n",
    "training = results.loc['train']\n",
    "ind = np.arange(4)\n",
    "width = 0.4\n",
    "fig = plt.figure()\n",
    "ax = fig.add_subplot(111)\n",
    "rects1 = ax.bar(ind, training, width, color='royalblue')\n",
    "\n",
    "testing = results.loc['test']\n",
    "rects2 = ax.bar(ind+width, testing, width, color='seagreen')\n",
    "\n",
    "fig.set_size_inches(12, 6)\n",
    "fig.savefig('Results.png', dpi=200)\n",
    "\n",
    "ax.set_xlabel('Model Classifying Trait', size = 18)\n",
    "ax.set_ylabel('Accuracy Percent (%)', size = 18)\n",
    "ax.set_xticks(ind + width / 2)\n",
    "ax.set_xticklabels(labels)\n",
    "ax.legend((rects1[0], rects2[0]), ('Tested on a known dataframe', 'Tested on an unknown dataframe'))\n",
    "plt.show()"
   ]
  },
  {
   "cell_type": "markdown",
   "metadata": {
    "_uuid": "0bc4785934ac70c57a028f10d0bb8a7e93c78c48"
   },
   "source": [
    "# Testing the models to predict my trait my feeding few of my quora writings\n",
    "\n",
    "link to my quora answers feed: https://www.quora.com/profile/Divya-Bramhecha"
   ]
  },
  {
   "cell_type": "markdown",
   "metadata": {
    "_uuid": "73713f15035b8794105d79d408303538f70d81e8"
   },
   "source": [
    "Defining a functions that inputs the writings, tokenizes them and then predicts the output based on our earlier classifiers"
   ]
  },
  {
   "cell_type": "code",
   "execution_count": 71,
   "metadata": {
    "_uuid": "1185cfaace1c5df6b334ca51b3b0bd1960ede4d8"
   },
   "outputs": [],
   "source": [
    "def MBTI(input):\n",
    "    tokenize = build_bag_of_words_features_filtered(input)\n",
    "    ie = IntroExtro.classify(tokenize)\n",
    "    Is = IntuitionSensing.classify(tokenize)\n",
    "    tf = ThinkingFeeling.classify(tokenize)\n",
    "    jp = JudgingPercieiving.classify(tokenize)\n",
    "    \n",
    "    mbt = ''\n",
    "    \n",
    "    if(ie == 'introvert'):\n",
    "        mbt+='I'\n",
    "    if(ie == 'extrovert'):\n",
    "        mbt+='E'\n",
    "    if(Is == 'Intuition'):\n",
    "        mbt+='N'\n",
    "    if(Is == 'Sensing'):\n",
    "        mbt+='S'\n",
    "    if(tf == 'Thinking'):\n",
    "        mbt+='T'\n",
    "    if(tf == 'Feeling'):\n",
    "        mbt+='F'\n",
    "    if(jp == 'Judging'):\n",
    "        mbt+='J'\n",
    "    if(jp == 'Percieving'):\n",
    "        mbt+='P'\n",
    "    return(mbt)\n",
    "    "
   ]
  },
  {
   "cell_type": "markdown",
   "metadata": {
    "_uuid": "ab4ed37dc3cf0d18f3ac76ca042ceb2348f172c0"
   },
   "source": [
    "### Building another functions that takes all of my posts as input and outputs the graph showing percentage of each trait seen in each posts and sums up displaying your personality as the graph title\n",
    "\n",
    "**Note:** The input should be an array of your posts"
   ]
  },
  {
   "cell_type": "code",
   "execution_count": 72,
   "metadata": {
    "_uuid": "ceaaa08742e3dfb2ba1d51bb7e8af74c68cad824"
   },
   "outputs": [],
   "source": [
    "def tellmemyMBTI(input, name, traasits=[]):\n",
    "    a = []\n",
    "    trait1 = pd.DataFrame([0,0,0,0],['I','N','T','J'],['count'])\n",
    "    trait2 = pd.DataFrame([0,0,0,0],['E','S','F','P'],['count'])\n",
    "    for i in input:\n",
    "        a += [MBTI(i)]\n",
    "    for i in a:\n",
    "        for j in ['I','N','T','J']:\n",
    "            if(j in i):\n",
    "                trait1.loc[j]+=1                \n",
    "        for j in ['E','S','F','P']:\n",
    "            if(j in i):\n",
    "                trait2.loc[j]+=1 \n",
    "    trait1 = trait1.T\n",
    "    trait1 = trait1*100/len(input)\n",
    "    trait2 = trait2.T\n",
    "    trait2 = trait2*100/len(input)\n",
    "    \n",
    "    \n",
    "    #Finding the personality\n",
    "    YourTrait = ''\n",
    "    for i,j in zip(trait1,trait2):\n",
    "        temp = max(trait1[i][0],trait2[j][0])\n",
    "        if(trait1[i][0]==temp):\n",
    "            YourTrait += i  \n",
    "        if(trait2[j][0]==temp):\n",
    "            YourTrait += j\n",
    "    traasits +=[YourTrait] \n",
    "    \n",
    "    #Plotting\n",
    "    \n",
    "    labels = np.array(results.columns)\n",
    "    \n",
    "    intj = trait1.loc['count']\n",
    "    ind = np.arange(4)\n",
    "    width = 0.4\n",
    "    fig = plt.figure()\n",
    "    ax = fig.add_subplot(111)\n",
    "    rects1 = ax.bar(ind, intj, width, color='royalblue')\n",
    "\n",
    "    esfp = trait2.loc['count']\n",
    "    rects2 = ax.bar(ind+width, esfp, width, color='seagreen')\n",
    "\n",
    "    fig.set_size_inches(10, 7)\n",
    "    \n",
    "    \n",
    "\n",
    "    ax.set_xlabel('Finding the MBTI Trait', size = 18)\n",
    "    ax.set_ylabel('Trait Percent (%)', size = 18)\n",
    "    ax.set_xticks(ind + width / 2)\n",
    "    ax.set_xticklabels(labels)\n",
    "    ax.set_yticks(np.arange(0,105, step= 10))\n",
    "    ax.set_title('Your Personality is '+YourTrait,size = 20)\n",
    "    plt.grid(True)\n",
    "    \n",
    "    \n",
    "    fig.savefig(name+'.png', dpi=200)\n",
    "    \n",
    "    plt.show()\n",
    "    return(traasits)\n",
    "        "
   ]
  },
  {
   "cell_type": "markdown",
   "metadata": {
    "_uuid": "572fd125be7e545b69e47b087ee76477f9c512c7"
   },
   "source": [
    "# Importing my quora answers from a text file\n",
    "\n",
    "I copied all my answer from the link i provided before (i broke down the paragraphs as separte posts)"
   ]
  },
  {
   "cell_type": "markdown",
   "metadata": {
    "_uuid": "5d5d8d308d327d015fb2340484f2a935e46a67f1"
   },
   "source": [
    "My_writings = open(\"../input/My Social media status(from quora)/Myquora.txt\")\n",
    "my_writing = My_writings.readlines()\n",
    "#my_writing"
   ]
  },
  {
   "cell_type": "markdown",
   "metadata": {
    "_uuid": "58e51dd268e2b09d685a691039fcbc42b44a98bc"
   },
   "source": [
    "my_posts = my_writing[0].split('|||')\n",
    "len(my_posts)\n",
    "#my_posts"
   ]
  },
  {
   "cell_type": "markdown",
   "metadata": {
    "_uuid": "8acac980960382ffa36ae285b7707774476da5b3"
   },
   "source": [
    "# Using the classifier to predict my personality type"
   ]
  },
  {
   "cell_type": "code",
   "execution_count": 73,
   "metadata": {
    "_uuid": "97bd7bf53d13a1686e31dcb07189aa96482ae913"
   },
   "outputs": [
    {
     "data": {
      "image/png": "[encoded data removed]",
      "text/plain": [
       "<Figure size 720x504 with 1 Axes>"
      ]
     },
     "metadata": {
      "needs_background": "light"
     },
     "output_type": "display_data"
    },
    {
     "data": {
      "text/plain": [
       "['INFJ']"
      ]
     },
     "execution_count": 73,
     "metadata": {},
     "output_type": "execute_result"
    }
   ],
   "source": [
    "trait=tellmemyMBTI(['helllooww world, this world takes up ~0% of what is out there'], 'moham')\n",
    "trait"
   ]
  },
  {
   "cell_type": "markdown",
   "metadata": {
    "_uuid": "ed1cbe3fa7c051944b605cdc2894f6c0ea1cb4a0"
   },
   "source": [
    "# Concluding note\n",
    "\n",
    "My profile according to https://www.16personalities.com/ is INTJ.\n",
    "\n",
    "I am pretty happy that using such a basic model it was pretty close to my real profile, only 1 different. And even that difference was very close, between 10% inaccuary which pretty good.\n",
    "\n",
    "Although, I am not sure how the classifier will perform on all test cases in general. Specially, the data for some profiles was very less."
   ]
  },
  {
   "cell_type": "code",
   "execution_count": 69,
   "metadata": {
    "_uuid": "9adfdd6c67746864a3328516ae7f225c28a60fd3"
   },
   "outputs": [],
   "source": [
    "import pickle\n",
    "\n",
    "with open('IntroExtro.pickle', 'wb') as f:\n",
    "    pickle.dump(IntroExtro, f)\n",
    "with open('IntuitionSensing.pickle', 'wb') as f:\n",
    "    pickle.dump(IntuitionSensing, f)\n",
    "with open('ThinkingFeeling.pickle', 'wb') as f:\n",
    "    pickle.dump(ThinkingFeeling, f)\n",
    "with open('JudgingPercieiving.pickle', 'wb') as f:\n",
    "    pickle.dump(JudgingPercieiving, f)"
   ]
  },
  {
   "cell_type": "code",
   "execution_count": 70,
   "metadata": {},
   "outputs": [],
   "source": [
    "import pickle\n",
    "\n",
    "with open('IntroExtro.pickle', 'rb') as f:\n",
    "    IntroExtro = pickle.load(f)\n",
    "with open('IntuitionSensing.pickle', 'rb') as f:\n",
    "    IntuitionSensing = pickle.load(f)\n",
    "with open('ThinkingFeeling.pickle', 'rb') as f:\n",
    "    ThinkingFeeling = pickle.load(f)\n",
    "with open('JudgingPercieiving.pickle', 'rb') as f:\n",
    "    JudgingPercieiving = pickle.load(f)"
   ]
  },
  {
   "cell_type": "code",
   "execution_count": 76,
   "metadata": {},
   "outputs": [
    {
     "ename": "NameError",
     "evalue": "name 'FloatTensorType' is not defined",
     "output_type": "error",
     "traceback": [
      "\u001b[1;31m---------------------------------------------------------------------------\u001b[0m",
      "\u001b[1;31mNameError\u001b[0m                                 Traceback (most recent call last)",
      "\u001b[1;32m<ipython-input-76-f996591560a1>\u001b[0m in \u001b[0;36m<module>\u001b[1;34m\u001b[0m\n\u001b[0;32m      1\u001b[0m \u001b[1;32mfrom\u001b[0m \u001b[0mskl2onnx\u001b[0m \u001b[1;32mimport\u001b[0m \u001b[0mconvert_sklearn\u001b[0m\u001b[1;33m\u001b[0m\u001b[1;33m\u001b[0m\u001b[0m\n\u001b[1;32m----> 2\u001b[1;33m \u001b[0minitial_type\u001b[0m \u001b[1;33m=\u001b[0m \u001b[1;33m[\u001b[0m\u001b[1;33m(\u001b[0m\u001b[1;34m'float_input'\u001b[0m\u001b[1;33m,\u001b[0m \u001b[0mFloatTensorType\u001b[0m\u001b[1;33m(\u001b[0m\u001b[1;33m[\u001b[0m\u001b[1;32mNone\u001b[0m\u001b[1;33m,\u001b[0m \u001b[1;36m8\u001b[0m\u001b[1;33m]\u001b[0m\u001b[1;33m)\u001b[0m\u001b[1;33m)\u001b[0m\u001b[1;33m]\u001b[0m\u001b[1;33m\u001b[0m\u001b[1;33m\u001b[0m\u001b[0m\n\u001b[0m\u001b[0;32m      3\u001b[0m \u001b[0monnx\u001b[0m \u001b[1;33m=\u001b[0m \u001b[0mconvert_sklearn\u001b[0m\u001b[1;33m(\u001b[0m\u001b[0mIntroExtro\u001b[0m\u001b[1;33m,\u001b[0m \u001b[0minitial_types\u001b[0m\u001b[1;33m=\u001b[0m\u001b[0minitial_type\u001b[0m\u001b[1;33m)\u001b[0m\u001b[1;33m\u001b[0m\u001b[1;33m\u001b[0m\u001b[0m\n\u001b[0;32m      4\u001b[0m \u001b[1;32mwith\u001b[0m \u001b[0mopen\u001b[0m\u001b[1;33m(\u001b[0m\u001b[1;34m\"IntroExtro.onnx\"\u001b[0m\u001b[1;33m,\u001b[0m \u001b[1;34m\"wb\"\u001b[0m\u001b[1;33m)\u001b[0m \u001b[1;32mas\u001b[0m \u001b[0mf\u001b[0m\u001b[1;33m:\u001b[0m\u001b[1;33m\u001b[0m\u001b[1;33m\u001b[0m\u001b[0m\n\u001b[0;32m      5\u001b[0m     \u001b[0mf\u001b[0m\u001b[1;33m.\u001b[0m\u001b[0mwrite\u001b[0m\u001b[1;33m(\u001b[0m\u001b[0monnx\u001b[0m\u001b[1;33m.\u001b[0m\u001b[0mSerializeToString\u001b[0m\u001b[1;33m(\u001b[0m\u001b[1;33m)\u001b[0m\u001b[1;33m)\u001b[0m\u001b[1;33m\u001b[0m\u001b[1;33m\u001b[0m\u001b[0m\n",
      "\u001b[1;31mNameError\u001b[0m: name 'FloatTensorType' is not defined"
     ]
    }
   ],
   "source": [
    "from skl2onnx import convert_sklearn\n",
    "initial_type = [('float_input', FloatTensorType([None, 8]))]\n",
    "onnx = convert_sklearn(IntroExtro, initial_types=initial_type)\n",
    "with open(\"IntroExtro.onnx\", \"wb\") as f:\n",
    "    f.write(onnx.SerializeToString())"
   ]
  }
 ],
 "metadata": {
  "kernelspec": {
   "display_name": "Python 3",
   "language": "python",
   "name": "python3"
  },
  "language_info": {
   "codemirror_mode": {
    "name": "ipython",
    "version": 3
   },
   "file_extension": ".py",
   "mimetype": "text/x-python",
   "name": "python",
   "nbconvert_exporter": "python",
   "pygments_lexer": "ipython3",
   "version": "3.7.9"
  }
 },
 "nbformat": 4,
 "nbformat_minor": 4
}
